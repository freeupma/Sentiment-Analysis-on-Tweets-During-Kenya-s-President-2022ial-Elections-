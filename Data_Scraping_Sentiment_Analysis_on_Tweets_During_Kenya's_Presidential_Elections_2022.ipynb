{
  "cells": [
    {
      "cell_type": "markdown",
      "metadata": {
        "id": "v0shkUtC9RDn"
      },
      "source": [
        "## Data Gathering"
      ]
    },
    {
      "cell_type": "code",
      "execution_count": null,
      "metadata": {
        "colab": {
          "base_uri": "https://localhost:8080/"
        },
        "collapsed": true,
        "id": "W5GrweBTP2dP",
        "outputId": "f2d7faaa-2f57-49af-8823-036fc6d3b252"
      },
      "outputs": [
        {
          "name": "stdout",
          "output_type": "stream",
          "text": [
            "Looking in indexes: https://pypi.org/simple, https://us-python.pkg.dev/colab-wheels/public/simple/\n",
            "Collecting snscrape\n",
            "  Downloading snscrape-0.5.0.20230113-py3-none-any.whl (69 kB)\n",
            "\u001b[2K     \u001b[90m━━━━━━━━━━━━━━━━━━━━━━━━━━━━━━━━━━━━━━━━\u001b[0m \u001b[32m69.2/69.2 KB\u001b[0m \u001b[31m2.4 MB/s\u001b[0m eta \u001b[36m0:00:00\u001b[0m\n",
            "\u001b[?25hRequirement already satisfied: requests[socks] in /usr/local/lib/python3.8/dist-packages (from snscrape) (2.25.1)\n",
            "Requirement already satisfied: filelock in /usr/local/lib/python3.8/dist-packages (from snscrape) (3.9.0)\n",
            "Requirement already satisfied: lxml in /usr/local/lib/python3.8/dist-packages (from snscrape) (4.9.2)\n",
            "Requirement already satisfied: pytz in /usr/local/lib/python3.8/dist-packages (from snscrape) (2022.7.1)\n",
            "Requirement already satisfied: beautifulsoup4 in /usr/local/lib/python3.8/dist-packages (from snscrape) (4.6.3)\n",
            "Requirement already satisfied: certifi>=2017.4.17 in /usr/local/lib/python3.8/dist-packages (from requests[socks]->snscrape) (2022.12.7)\n",
            "Requirement already satisfied: idna<3,>=2.5 in /usr/local/lib/python3.8/dist-packages (from requests[socks]->snscrape) (2.10)\n",
            "Requirement already satisfied: chardet<5,>=3.0.2 in /usr/local/lib/python3.8/dist-packages (from requests[socks]->snscrape) (4.0.0)\n",
            "Requirement already satisfied: urllib3<1.27,>=1.21.1 in /usr/local/lib/python3.8/dist-packages (from requests[socks]->snscrape) (1.24.3)\n",
            "Requirement already satisfied: PySocks!=1.5.7,>=1.5.6 in /usr/local/lib/python3.8/dist-packages (from requests[socks]->snscrape) (1.7.1)\n",
            "Installing collected packages: snscrape\n",
            "Successfully installed snscrape-0.5.0.20230113\n"
          ]
        }
      ],
      "source": [
        "# Installing SNScrape for webscraping data off twitter\n",
        "\n",
        "!pip install snscrape"
      ]
    },
    {
      "cell_type": "code",
      "execution_count": null,
      "metadata": {
        "id": "4aTDFfspQ9Ua"
      },
      "outputs": [],
      "source": [
        "# Importing all necessary libraries and packages\n",
        "\n",
        "import pandas as pd\n",
        "import numpy as np\n",
        "import matplotlib.pyplot as plt\n",
        "import seaborn as sns\n",
        "from tqdm.notebook import tqdm\n",
        "import snscrape.modules.twitter as sntwitter"
      ]
    },
    {
      "cell_type": "code",
      "execution_count": null,
      "metadata": {
        "id": "Vs0t_T0KRBzh"
      },
      "outputs": [],
      "source": [
        "# Scraping data containing the necesary keywords\n",
        "\n",
        "scraper = sntwitter.TwitterSearchScraper('(#AZIMIO OR #RUTO #WILLIAMRUTO OR #RAILA OR OR #IEBC OR #kenyaElections2022 OR @RAILAODINGA) since:2022-01-01 until:2022-08-09')"
      ]
    },
    {
      "cell_type": "code",
      "execution_count": null,
      "metadata": {
        "colab": {
          "background_save": true,
          "base_uri": "https://localhost:8080/",
          "height": 549
        },
        "id": "EQXNbqM5XlBH",
        "outputId": "32ebaa32-45f6-45c3-938e-54e9d6237d56"
      },
      "outputs": [
        {
          "name": "stderr",
          "output_type": "stream",
          "text": [
            "<ipython-input-4-3c51010fb0bb>:17: FutureWarning: content is deprecated, use rawContent instead\n",
            "  tweet.content,\n"
          ]
        },
        {
          "data": {
            "text/html": [
              "\n",
              "  <div id=\"df-4a581d5d-019b-4505-ba18-f84d3c9ca486\">\n",
              "    <div class=\"colab-df-container\">\n",
              "      <div>\n",
              "<style scoped>\n",
              "    .dataframe tbody tr th:only-of-type {\n",
              "        vertical-align: middle;\n",
              "    }\n",
              "\n",
              "    .dataframe tbody tr th {\n",
              "        vertical-align: top;\n",
              "    }\n",
              "\n",
              "    .dataframe thead th {\n",
              "        text-align: right;\n",
              "    }\n",
              "</style>\n",
              "<table border=\"1\" class=\"dataframe\">\n",
              "  <thead>\n",
              "    <tr style=\"text-align: right;\">\n",
              "      <th></th>\n",
              "      <th>User</th>\n",
              "      <th>verified</th>\n",
              "      <th>Date_Created</th>\n",
              "      <th>Follows_Count</th>\n",
              "      <th>Friends_Count</th>\n",
              "      <th>Retweet_Count</th>\n",
              "      <th>Language</th>\n",
              "      <th>Date_Tweet</th>\n",
              "      <th>Number_of_Likes</th>\n",
              "      <th>Source_of_Tweet</th>\n",
              "      <th>Tweet_Id</th>\n",
              "      <th>Tweet</th>\n",
              "      <th>Hashtags</th>\n",
              "      <th>Conversation_Id</th>\n",
              "      <th>In_reply_To</th>\n",
              "      <th>Coordinates</th>\n",
              "      <th>Place</th>\n",
              "      <th>retweets</th>\n",
              "    </tr>\n",
              "  </thead>\n",
              "  <tbody>\n",
              "    <tr>\n",
              "      <th>0</th>\n",
              "      <td>JadeJela</td>\n",
              "      <td>False</td>\n",
              "      <td>2009-04-15 08:41:55+00:00</td>\n",
              "      <td>3813</td>\n",
              "      <td>1450</td>\n",
              "      <td>0</td>\n",
              "      <td>qht</td>\n",
              "      <td>2022-08-08 20:54:43+00:00</td>\n",
              "      <td>1</td>\n",
              "      <td>Twitter for Android</td>\n",
              "      <td>1556745745788715019</td>\n",
              "      <td>#KenyaDecides2022 #IEBC #Raila #Ruto</td>\n",
              "      <td>[KenyaDecides2022, IEBC, Raila, Ruto]</td>\n",
              "      <td>1556745745788715019</td>\n",
              "      <td>None</td>\n",
              "      <td>None</td>\n",
              "      <td>None</td>\n",
              "      <td>0</td>\n",
              "    </tr>\n",
              "    <tr>\n",
              "      <th>1</th>\n",
              "      <td>karanjasan</td>\n",
              "      <td>False</td>\n",
              "      <td>2013-10-12 23:44:13+00:00</td>\n",
              "      <td>3322</td>\n",
              "      <td>2835</td>\n",
              "      <td>0</td>\n",
              "      <td>en</td>\n",
              "      <td>2022-08-08 17:32:27+00:00</td>\n",
              "      <td>0</td>\n",
              "      <td>Twitter for iPhone</td>\n",
              "      <td>1556694844839534599</td>\n",
              "      <td>We’re liiiiveee!! #KenyaKwanza #Azimio #Uhuru ...</td>\n",
              "      <td>[KenyaKwanza, Azimio, Uhuru, Ruto, Raila, Odin...</td>\n",
              "      <td>1556694844839534599</td>\n",
              "      <td>None</td>\n",
              "      <td>None</td>\n",
              "      <td>None</td>\n",
              "      <td>0</td>\n",
              "    </tr>\n",
              "    <tr>\n",
              "      <th>2</th>\n",
              "      <td>itknowsitall</td>\n",
              "      <td>False</td>\n",
              "      <td>2013-12-02 06:41:58+00:00</td>\n",
              "      <td>221</td>\n",
              "      <td>452</td>\n",
              "      <td>0</td>\n",
              "      <td>en</td>\n",
              "      <td>2022-08-08 16:10:00+00:00</td>\n",
              "      <td>1</td>\n",
              "      <td>Twitter for iPhone</td>\n",
              "      <td>1556674095600865282</td>\n",
              "      <td>@iitsjames Chebukati should be sacked for this...</td>\n",
              "      <td>[IEBC, IELTS, Azimio, KenyaKwanza]</td>\n",
              "      <td>1556652864180830211</td>\n",
              "      <td>https://twitter.com/iitsjames</td>\n",
              "      <td>None</td>\n",
              "      <td>None</td>\n",
              "      <td>0</td>\n",
              "    </tr>\n",
              "    <tr>\n",
              "      <th>3</th>\n",
              "      <td>lnstill_</td>\n",
              "      <td>False</td>\n",
              "      <td>2013-02-02 12:26:53+00:00</td>\n",
              "      <td>364</td>\n",
              "      <td>54</td>\n",
              "      <td>0</td>\n",
              "      <td>en</td>\n",
              "      <td>2022-08-08 15:46:52+00:00</td>\n",
              "      <td>2</td>\n",
              "      <td>Twitter for iPhone</td>\n",
              "      <td>1556668272787050496</td>\n",
              "      <td>Personally am not tired with Kenyatttas, Mois,...</td>\n",
              "      <td>[IEBC, Azimio, Karua]</td>\n",
              "      <td>1556668272787050496</td>\n",
              "      <td>None</td>\n",
              "      <td>None</td>\n",
              "      <td>None</td>\n",
              "      <td>0</td>\n",
              "    </tr>\n",
              "    <tr>\n",
              "      <th>4</th>\n",
              "      <td>ArbcomAdventure</td>\n",
              "      <td>False</td>\n",
              "      <td>2022-05-16 05:36:53+00:00</td>\n",
              "      <td>4</td>\n",
              "      <td>28</td>\n",
              "      <td>0</td>\n",
              "      <td>in</td>\n",
              "      <td>2022-08-08 14:09:20+00:00</td>\n",
              "      <td>0</td>\n",
              "      <td>Twitter Web App</td>\n",
              "      <td>1556643726566498304</td>\n",
              "      <td>Kenya +254714059633\\nCanada +15876644404\\n inf...</td>\n",
              "      <td>[JobInPeru, JobInBrazil, Volunteers, Iebc, Rut...</td>\n",
              "      <td>1556643717603270657</td>\n",
              "      <td>https://twitter.com/ArbcomAdventure</td>\n",
              "      <td>None</td>\n",
              "      <td>None</td>\n",
              "      <td>0</td>\n",
              "    </tr>\n",
              "  </tbody>\n",
              "</table>\n",
              "</div>\n",
              "      <button class=\"colab-df-convert\" onclick=\"convertToInteractive('df-4a581d5d-019b-4505-ba18-f84d3c9ca486')\"\n",
              "              title=\"Convert this dataframe to an interactive table.\"\n",
              "              style=\"display:none;\">\n",
              "        \n",
              "  <svg xmlns=\"http://www.w3.org/2000/svg\" height=\"24px\"viewBox=\"0 0 24 24\"\n",
              "       width=\"24px\">\n",
              "    <path d=\"M0 0h24v24H0V0z\" fill=\"none\"/>\n",
              "    <path d=\"M18.56 5.44l.94 2.06.94-2.06 2.06-.94-2.06-.94-.94-2.06-.94 2.06-2.06.94zm-11 1L8.5 8.5l.94-2.06 2.06-.94-2.06-.94L8.5 2.5l-.94 2.06-2.06.94zm10 10l.94 2.06.94-2.06 2.06-.94-2.06-.94-.94-2.06-.94 2.06-2.06.94z\"/><path d=\"M17.41 7.96l-1.37-1.37c-.4-.4-.92-.59-1.43-.59-.52 0-1.04.2-1.43.59L10.3 9.45l-7.72 7.72c-.78.78-.78 2.05 0 2.83L4 21.41c.39.39.9.59 1.41.59.51 0 1.02-.2 1.41-.59l7.78-7.78 2.81-2.81c.8-.78.8-2.07 0-2.86zM5.41 20L4 18.59l7.72-7.72 1.47 1.35L5.41 20z\"/>\n",
              "  </svg>\n",
              "      </button>\n",
              "      \n",
              "  <style>\n",
              "    .colab-df-container {\n",
              "      display:flex;\n",
              "      flex-wrap:wrap;\n",
              "      gap: 12px;\n",
              "    }\n",
              "\n",
              "    .colab-df-convert {\n",
              "      background-color: #E8F0FE;\n",
              "      border: none;\n",
              "      border-radius: 50%;\n",
              "      cursor: pointer;\n",
              "      display: none;\n",
              "      fill: #1967D2;\n",
              "      height: 32px;\n",
              "      padding: 0 0 0 0;\n",
              "      width: 32px;\n",
              "    }\n",
              "\n",
              "    .colab-df-convert:hover {\n",
              "      background-color: #E2EBFA;\n",
              "      box-shadow: 0px 1px 2px rgba(60, 64, 67, 0.3), 0px 1px 3px 1px rgba(60, 64, 67, 0.15);\n",
              "      fill: #174EA6;\n",
              "    }\n",
              "\n",
              "    [theme=dark] .colab-df-convert {\n",
              "      background-color: #3B4455;\n",
              "      fill: #D2E3FC;\n",
              "    }\n",
              "\n",
              "    [theme=dark] .colab-df-convert:hover {\n",
              "      background-color: #434B5C;\n",
              "      box-shadow: 0px 1px 3px 1px rgba(0, 0, 0, 0.15);\n",
              "      filter: drop-shadow(0px 1px 2px rgba(0, 0, 0, 0.3));\n",
              "      fill: #FFFFFF;\n",
              "    }\n",
              "  </style>\n",
              "\n",
              "      <script>\n",
              "        const buttonEl =\n",
              "          document.querySelector('#df-4a581d5d-019b-4505-ba18-f84d3c9ca486 button.colab-df-convert');\n",
              "        buttonEl.style.display =\n",
              "          google.colab.kernel.accessAllowed ? 'block' : 'none';\n",
              "\n",
              "        async function convertToInteractive(key) {\n",
              "          const element = document.querySelector('#df-4a581d5d-019b-4505-ba18-f84d3c9ca486');\n",
              "          const dataTable =\n",
              "            await google.colab.kernel.invokeFunction('convertToInteractive',\n",
              "                                                     [key], {});\n",
              "          if (!dataTable) return;\n",
              "\n",
              "          const docLinkHtml = 'Like what you see? Visit the ' +\n",
              "            '<a target=\"_blank\" href=https://colab.research.google.com/notebooks/data_table.ipynb>data table notebook</a>'\n",
              "            + ' to learn more about interactive tables.';\n",
              "          element.innerHTML = '';\n",
              "          dataTable['output_type'] = 'display_data';\n",
              "          await google.colab.output.renderOutput(dataTable, element);\n",
              "          const docLink = document.createElement('div');\n",
              "          docLink.innerHTML = docLinkHtml;\n",
              "          element.appendChild(docLink);\n",
              "        }\n",
              "      </script>\n",
              "    </div>\n",
              "  </div>\n",
              "  "
            ],
            "text/plain": [
              "              User  verified              Date_Created  Follows_Count  \\\n",
              "0         JadeJela     False 2009-04-15 08:41:55+00:00           3813   \n",
              "1       karanjasan     False 2013-10-12 23:44:13+00:00           3322   \n",
              "2     itknowsitall     False 2013-12-02 06:41:58+00:00            221   \n",
              "3         lnstill_     False 2013-02-02 12:26:53+00:00            364   \n",
              "4  ArbcomAdventure     False 2022-05-16 05:36:53+00:00              4   \n",
              "\n",
              "   Friends_Count  Retweet_Count Language                Date_Tweet  \\\n",
              "0           1450              0      qht 2022-08-08 20:54:43+00:00   \n",
              "1           2835              0       en 2022-08-08 17:32:27+00:00   \n",
              "2            452              0       en 2022-08-08 16:10:00+00:00   \n",
              "3             54              0       en 2022-08-08 15:46:52+00:00   \n",
              "4             28              0       in 2022-08-08 14:09:20+00:00   \n",
              "\n",
              "   Number_of_Likes      Source_of_Tweet             Tweet_Id  \\\n",
              "0                1  Twitter for Android  1556745745788715019   \n",
              "1                0   Twitter for iPhone  1556694844839534599   \n",
              "2                1   Twitter for iPhone  1556674095600865282   \n",
              "3                2   Twitter for iPhone  1556668272787050496   \n",
              "4                0      Twitter Web App  1556643726566498304   \n",
              "\n",
              "                                               Tweet  \\\n",
              "0               #KenyaDecides2022 #IEBC #Raila #Ruto   \n",
              "1  We’re liiiiveee!! #KenyaKwanza #Azimio #Uhuru ...   \n",
              "2  @iitsjames Chebukati should be sacked for this...   \n",
              "3  Personally am not tired with Kenyatttas, Mois,...   \n",
              "4  Kenya +254714059633\\nCanada +15876644404\\n inf...   \n",
              "\n",
              "                                            Hashtags      Conversation_Id  \\\n",
              "0              [KenyaDecides2022, IEBC, Raila, Ruto]  1556745745788715019   \n",
              "1  [KenyaKwanza, Azimio, Uhuru, Ruto, Raila, Odin...  1556694844839534599   \n",
              "2                 [IEBC, IELTS, Azimio, KenyaKwanza]  1556652864180830211   \n",
              "3                              [IEBC, Azimio, Karua]  1556668272787050496   \n",
              "4  [JobInPeru, JobInBrazil, Volunteers, Iebc, Rut...  1556643717603270657   \n",
              "\n",
              "                           In_reply_To Coordinates Place  retweets  \n",
              "0                                 None        None  None         0  \n",
              "1                                 None        None  None         0  \n",
              "2        https://twitter.com/iitsjames        None  None         0  \n",
              "3                                 None        None  None         0  \n",
              "4  https://twitter.com/ArbcomAdventure        None  None         0  "
            ]
          },
          "execution_count": 4,
          "metadata": {},
          "output_type": "execute_result"
        }
      ],
      "source": [
        "# Saving all data in a pandas dataframe with proper column names\n",
        "\n",
        "tweets = []\n",
        "\n",
        "for i,tweet in enumerate(scraper.get_items()):\n",
        "  data = [tweet.user.username,\n",
        "          tweet.user.verified,\n",
        "          tweet.user.created,\n",
        "          tweet.user.followersCount,\n",
        "          tweet.user.friendsCount,\n",
        "          tweet.retweetCount,\n",
        "          tweet.lang,\n",
        "          tweet.date,\n",
        "          tweet.likeCount,\n",
        "          tweet.sourceLabel,\n",
        "          tweet.id,\n",
        "          tweet.content,\n",
        "          tweet.hashtags,\n",
        "          tweet.conversationId,\n",
        "          tweet.inReplyToUser,\n",
        "          tweet.coordinates,\n",
        "          tweet.place,\n",
        "          tweet.retweetCount]\n",
        "  tweets.append(data)\n",
        "  if i>100000:\n",
        "    break\n",
        "\n",
        "election_tweets = pd.DataFrame(tweets, columns = [\"User\",\n",
        "                                                  \"verified\",\n",
        "                                                  \"Date_Created\",\n",
        "                                                  \"Follows_Count\",\n",
        "                                                  \"Friends_Count\",\n",
        "                                                  \"Retweet_Count\",\n",
        "                                                  \"Language\",\n",
        "                                                  \"Date_Tweet\",\n",
        "                                                  \"Number_of_Likes\",\n",
        "                                                  \"Source_of_Tweet\",\n",
        "                                                  \"Tweet_Id\",\n",
        "                                                  \"Tweet\",\n",
        "                                                  \"Hashtags\",\n",
        "                                                  \"Conversation_Id\",\n",
        "                                                  \"In_reply_To\",\n",
        "                                                  \"Coordinates\",\n",
        "                                                  \"Place\",\n",
        "                                                  \"retweets\"])\n",
        "\n",
        "election_tweets.head()"
      ]
    },
    {
      "cell_type": "code",
      "execution_count": null,
      "metadata": {
        "id": "VrFfvtqAXl8J"
      },
      "outputs": [],
      "source": [
        "# Saving to csv\n",
        "\n",
        "election_tweets.to_csv(\"Election_Tweets.csv\")"
      ]
    },
    {
      "cell_type": "code",
      "execution_count": null,
      "metadata": {
        "id": "4HSPWmuEzLn6"
      },
      "outputs": [],
      "source": [
        "#exporting data\n",
        "#election_data = election_tweets.to_csv('election_data.csv', index = True, encoding ='utf-8')\n",
        "#print('KENAFF DATA:\\n', election_data)\n",
        "#print(kenaff_data)\n",
        "\n"
      ]
    },
    {
      "cell_type": "markdown",
      "metadata": {
        "id": "UCxCLlnV9dyk"
      },
      "source": [
        "## EDA"
      ]
    },
    {
      "cell_type": "code",
      "execution_count": null,
      "metadata": {
        "colab": {
          "base_uri": "https://localhost:8080/",
          "height": 531
        },
        "id": "NiHxuN709h02",
        "outputId": "2b66fc77-6002-4e05-cff4-a26dd6b3fcb5"
      },
      "outputs": [
        {
          "data": {
            "text/html": [
              "\n",
              "  <div id=\"df-5ca16d8c-00df-4df2-afbf-b14f86a21f97\">\n",
              "    <div class=\"colab-df-container\">\n",
              "      <div>\n",
              "<style scoped>\n",
              "    .dataframe tbody tr th:only-of-type {\n",
              "        vertical-align: middle;\n",
              "    }\n",
              "\n",
              "    .dataframe tbody tr th {\n",
              "        vertical-align: top;\n",
              "    }\n",
              "\n",
              "    .dataframe thead th {\n",
              "        text-align: right;\n",
              "    }\n",
              "</style>\n",
              "<table border=\"1\" class=\"dataframe\">\n",
              "  <thead>\n",
              "    <tr style=\"text-align: right;\">\n",
              "      <th></th>\n",
              "      <th>Unnamed: 0</th>\n",
              "      <th>User</th>\n",
              "      <th>verified</th>\n",
              "      <th>Date_Created</th>\n",
              "      <th>Follows_Count</th>\n",
              "      <th>Friends_Count</th>\n",
              "      <th>Retweet_Count</th>\n",
              "      <th>Language</th>\n",
              "      <th>Date_Tweet</th>\n",
              "      <th>Number_of_Likes</th>\n",
              "      <th>Source_of_Tweet</th>\n",
              "      <th>Tweet_Id</th>\n",
              "      <th>Tweet</th>\n",
              "      <th>Hashtags</th>\n",
              "      <th>Conversation_Id</th>\n",
              "      <th>In_reply_To</th>\n",
              "      <th>Coordinates</th>\n",
              "      <th>Place</th>\n",
              "      <th>retweets</th>\n",
              "    </tr>\n",
              "  </thead>\n",
              "  <tbody>\n",
              "    <tr>\n",
              "      <th>0</th>\n",
              "      <td>0</td>\n",
              "      <td>MosesHaabwa</td>\n",
              "      <td>False</td>\n",
              "      <td>2021-12-12 22:15:10+00:00</td>\n",
              "      <td>2176</td>\n",
              "      <td>943</td>\n",
              "      <td>0</td>\n",
              "      <td>en</td>\n",
              "      <td>2022-08-21 22:59:21+00:00</td>\n",
              "      <td>0</td>\n",
              "      <td>Twitter for Android</td>\n",
              "      <td>1561488152166023168</td>\n",
              "      <td>@MosesHaabwa was verified, @cisuganda was veri...</td>\n",
              "      <td>['Ruto']</td>\n",
              "      <td>1561486199067394048</td>\n",
              "      <td>https://twitter.com/MosesHaabwa</td>\n",
              "      <td>NaN</td>\n",
              "      <td>NaN</td>\n",
              "      <td>0</td>\n",
              "    </tr>\n",
              "    <tr>\n",
              "      <th>1</th>\n",
              "      <td>1</td>\n",
              "      <td>EremonDaniel</td>\n",
              "      <td>False</td>\n",
              "      <td>2019-10-02 04:33:26+00:00</td>\n",
              "      <td>1448</td>\n",
              "      <td>3985</td>\n",
              "      <td>0</td>\n",
              "      <td>en</td>\n",
              "      <td>2022-08-21 18:53:46+00:00</td>\n",
              "      <td>0</td>\n",
              "      <td>Twitter for Android</td>\n",
              "      <td>1561426349763477504</td>\n",
              "      <td>@Rephael_Tuju @WilliamsRuto As you talk of #Ru...</td>\n",
              "      <td>['Ruto']</td>\n",
              "      <td>1560873200816463872</td>\n",
              "      <td>https://twitter.com/RaphaelTujuEGH</td>\n",
              "      <td>NaN</td>\n",
              "      <td>NaN</td>\n",
              "      <td>0</td>\n",
              "    </tr>\n",
              "    <tr>\n",
              "      <th>2</th>\n",
              "      <td>2</td>\n",
              "      <td>LabanWekz</td>\n",
              "      <td>False</td>\n",
              "      <td>2021-04-14 04:46:08+00:00</td>\n",
              "      <td>33</td>\n",
              "      <td>90</td>\n",
              "      <td>0</td>\n",
              "      <td>en</td>\n",
              "      <td>2022-08-21 17:16:43+00:00</td>\n",
              "      <td>0</td>\n",
              "      <td>Twitter Web App</td>\n",
              "      <td>1561401927623397376</td>\n",
              "      <td>#Azimio should protect their evidence at the s...</td>\n",
              "      <td>['Azimio']</td>\n",
              "      <td>1561401927623397376</td>\n",
              "      <td>NaN</td>\n",
              "      <td>NaN</td>\n",
              "      <td>NaN</td>\n",
              "      <td>0</td>\n",
              "    </tr>\n",
              "    <tr>\n",
              "      <th>3</th>\n",
              "      <td>3</td>\n",
              "      <td>AnariThaddeaus</td>\n",
              "      <td>False</td>\n",
              "      <td>2014-04-16 08:18:48+00:00</td>\n",
              "      <td>524</td>\n",
              "      <td>824</td>\n",
              "      <td>2</td>\n",
              "      <td>en</td>\n",
              "      <td>2022-08-21 17:01:35+00:00</td>\n",
              "      <td>3</td>\n",
              "      <td>Twitter for Android</td>\n",
              "      <td>1561398118918361088</td>\n",
              "      <td>It doesn't matter who leaves, I won't leave! I...</td>\n",
              "      <td>['RailaOdinga', 'SCOK', 'Azimio']</td>\n",
              "      <td>1561398118918361088</td>\n",
              "      <td>NaN</td>\n",
              "      <td>NaN</td>\n",
              "      <td>NaN</td>\n",
              "      <td>2</td>\n",
              "    </tr>\n",
              "    <tr>\n",
              "      <th>4</th>\n",
              "      <td>4</td>\n",
              "      <td>ehdande</td>\n",
              "      <td>False</td>\n",
              "      <td>2014-10-16 06:45:04+00:00</td>\n",
              "      <td>9749</td>\n",
              "      <td>589</td>\n",
              "      <td>0</td>\n",
              "      <td>en</td>\n",
              "      <td>2022-08-21 16:50:03+00:00</td>\n",
              "      <td>1</td>\n",
              "      <td>Twitter for iPhone</td>\n",
              "      <td>1561395215637876736</td>\n",
              "      <td>Amidst all the post election discussions, I th...</td>\n",
              "      <td>['Ruto', 'Raila']</td>\n",
              "      <td>1561395215637876736</td>\n",
              "      <td>NaN</td>\n",
              "      <td>NaN</td>\n",
              "      <td>NaN</td>\n",
              "      <td>0</td>\n",
              "    </tr>\n",
              "  </tbody>\n",
              "</table>\n",
              "</div>\n",
              "      <button class=\"colab-df-convert\" onclick=\"convertToInteractive('df-5ca16d8c-00df-4df2-afbf-b14f86a21f97')\"\n",
              "              title=\"Convert this dataframe to an interactive table.\"\n",
              "              style=\"display:none;\">\n",
              "        \n",
              "  <svg xmlns=\"http://www.w3.org/2000/svg\" height=\"24px\"viewBox=\"0 0 24 24\"\n",
              "       width=\"24px\">\n",
              "    <path d=\"M0 0h24v24H0V0z\" fill=\"none\"/>\n",
              "    <path d=\"M18.56 5.44l.94 2.06.94-2.06 2.06-.94-2.06-.94-.94-2.06-.94 2.06-2.06.94zm-11 1L8.5 8.5l.94-2.06 2.06-.94-2.06-.94L8.5 2.5l-.94 2.06-2.06.94zm10 10l.94 2.06.94-2.06 2.06-.94-2.06-.94-.94-2.06-.94 2.06-2.06.94z\"/><path d=\"M17.41 7.96l-1.37-1.37c-.4-.4-.92-.59-1.43-.59-.52 0-1.04.2-1.43.59L10.3 9.45l-7.72 7.72c-.78.78-.78 2.05 0 2.83L4 21.41c.39.39.9.59 1.41.59.51 0 1.02-.2 1.41-.59l7.78-7.78 2.81-2.81c.8-.78.8-2.07 0-2.86zM5.41 20L4 18.59l7.72-7.72 1.47 1.35L5.41 20z\"/>\n",
              "  </svg>\n",
              "      </button>\n",
              "      \n",
              "  <style>\n",
              "    .colab-df-container {\n",
              "      display:flex;\n",
              "      flex-wrap:wrap;\n",
              "      gap: 12px;\n",
              "    }\n",
              "\n",
              "    .colab-df-convert {\n",
              "      background-color: #E8F0FE;\n",
              "      border: none;\n",
              "      border-radius: 50%;\n",
              "      cursor: pointer;\n",
              "      display: none;\n",
              "      fill: #1967D2;\n",
              "      height: 32px;\n",
              "      padding: 0 0 0 0;\n",
              "      width: 32px;\n",
              "    }\n",
              "\n",
              "    .colab-df-convert:hover {\n",
              "      background-color: #E2EBFA;\n",
              "      box-shadow: 0px 1px 2px rgba(60, 64, 67, 0.3), 0px 1px 3px 1px rgba(60, 64, 67, 0.15);\n",
              "      fill: #174EA6;\n",
              "    }\n",
              "\n",
              "    [theme=dark] .colab-df-convert {\n",
              "      background-color: #3B4455;\n",
              "      fill: #D2E3FC;\n",
              "    }\n",
              "\n",
              "    [theme=dark] .colab-df-convert:hover {\n",
              "      background-color: #434B5C;\n",
              "      box-shadow: 0px 1px 3px 1px rgba(0, 0, 0, 0.15);\n",
              "      filter: drop-shadow(0px 1px 2px rgba(0, 0, 0, 0.3));\n",
              "      fill: #FFFFFF;\n",
              "    }\n",
              "  </style>\n",
              "\n",
              "      <script>\n",
              "        const buttonEl =\n",
              "          document.querySelector('#df-5ca16d8c-00df-4df2-afbf-b14f86a21f97 button.colab-df-convert');\n",
              "        buttonEl.style.display =\n",
              "          google.colab.kernel.accessAllowed ? 'block' : 'none';\n",
              "\n",
              "        async function convertToInteractive(key) {\n",
              "          const element = document.querySelector('#df-5ca16d8c-00df-4df2-afbf-b14f86a21f97');\n",
              "          const dataTable =\n",
              "            await google.colab.kernel.invokeFunction('convertToInteractive',\n",
              "                                                     [key], {});\n",
              "          if (!dataTable) return;\n",
              "\n",
              "          const docLinkHtml = 'Like what you see? Visit the ' +\n",
              "            '<a target=\"_blank\" href=https://colab.research.google.com/notebooks/data_table.ipynb>data table notebook</a>'\n",
              "            + ' to learn more about interactive tables.';\n",
              "          element.innerHTML = '';\n",
              "          dataTable['output_type'] = 'display_data';\n",
              "          await google.colab.output.renderOutput(dataTable, element);\n",
              "          const docLink = document.createElement('div');\n",
              "          docLink.innerHTML = docLinkHtml;\n",
              "          element.appendChild(docLink);\n",
              "        }\n",
              "      </script>\n",
              "    </div>\n",
              "  </div>\n",
              "  "
            ],
            "text/plain": [
              "   Unnamed: 0            User  verified               Date_Created  \\\n",
              "0           0     MosesHaabwa     False  2021-12-12 22:15:10+00:00   \n",
              "1           1    EremonDaniel     False  2019-10-02 04:33:26+00:00   \n",
              "2           2       LabanWekz     False  2021-04-14 04:46:08+00:00   \n",
              "3           3  AnariThaddeaus     False  2014-04-16 08:18:48+00:00   \n",
              "4           4         ehdande     False  2014-10-16 06:45:04+00:00   \n",
              "\n",
              "   Follows_Count  Friends_Count  Retweet_Count Language  \\\n",
              "0           2176            943              0       en   \n",
              "1           1448           3985              0       en   \n",
              "2             33             90              0       en   \n",
              "3            524            824              2       en   \n",
              "4           9749            589              0       en   \n",
              "\n",
              "                  Date_Tweet  Number_of_Likes      Source_of_Tweet  \\\n",
              "0  2022-08-21 22:59:21+00:00                0  Twitter for Android   \n",
              "1  2022-08-21 18:53:46+00:00                0  Twitter for Android   \n",
              "2  2022-08-21 17:16:43+00:00                0      Twitter Web App   \n",
              "3  2022-08-21 17:01:35+00:00                3  Twitter for Android   \n",
              "4  2022-08-21 16:50:03+00:00                1   Twitter for iPhone   \n",
              "\n",
              "              Tweet_Id                                              Tweet  \\\n",
              "0  1561488152166023168  @MosesHaabwa was verified, @cisuganda was veri...   \n",
              "1  1561426349763477504  @Rephael_Tuju @WilliamsRuto As you talk of #Ru...   \n",
              "2  1561401927623397376  #Azimio should protect their evidence at the s...   \n",
              "3  1561398118918361088  It doesn't matter who leaves, I won't leave! I...   \n",
              "4  1561395215637876736  Amidst all the post election discussions, I th...   \n",
              "\n",
              "                            Hashtags      Conversation_Id  \\\n",
              "0                           ['Ruto']  1561486199067394048   \n",
              "1                           ['Ruto']  1560873200816463872   \n",
              "2                         ['Azimio']  1561401927623397376   \n",
              "3  ['RailaOdinga', 'SCOK', 'Azimio']  1561398118918361088   \n",
              "4                  ['Ruto', 'Raila']  1561395215637876736   \n",
              "\n",
              "                          In_reply_To Coordinates Place  retweets  \n",
              "0     https://twitter.com/MosesHaabwa         NaN   NaN         0  \n",
              "1  https://twitter.com/RaphaelTujuEGH         NaN   NaN         0  \n",
              "2                                 NaN         NaN   NaN         0  \n",
              "3                                 NaN         NaN   NaN         2  \n",
              "4                                 NaN         NaN   NaN         0  "
            ]
          },
          "execution_count": 6,
          "metadata": {},
          "output_type": "execute_result"
        }
      ],
      "source": [
        "# Loading Data and checking first five rows\n",
        "\n",
        "election_tweets = pd.read_csv(\"Election_Tweets.csv\")\n",
        "\n",
        "election_tweets.head()"
      ]
    },
    {
      "cell_type": "code",
      "execution_count": null,
      "metadata": {
        "colab": {
          "base_uri": "https://localhost:8080/"
        },
        "id": "Nf3peFAJ6LA2",
        "outputId": "919d06cb-7a71-488a-b814-0ab187b9abcc"
      },
      "outputs": [
        {
          "data": {
            "text/plain": [
              "(4071, 19)"
            ]
          },
          "execution_count": 7,
          "metadata": {},
          "output_type": "execute_result"
        }
      ],
      "source": [
        "election_tweets.shape"
      ]
    },
    {
      "cell_type": "code",
      "execution_count": null,
      "metadata": {
        "colab": {
          "base_uri": "https://localhost:8080/",
          "height": 206
        },
        "id": "3xlsTJVe1I3E",
        "outputId": "e2cbc9c8-aa74-4fa6-90a9-a0ef090d0c01"
      },
      "outputs": [
        {
          "data": {
            "text/html": [
              "\n",
              "  <div id=\"df-270fddf8-ef40-4f04-9203-386ffb418157\">\n",
              "    <div class=\"colab-df-container\">\n",
              "      <div>\n",
              "<style scoped>\n",
              "    .dataframe tbody tr th:only-of-type {\n",
              "        vertical-align: middle;\n",
              "    }\n",
              "\n",
              "    .dataframe tbody tr th {\n",
              "        vertical-align: top;\n",
              "    }\n",
              "\n",
              "    .dataframe thead th {\n",
              "        text-align: right;\n",
              "    }\n",
              "</style>\n",
              "<table border=\"1\" class=\"dataframe\">\n",
              "  <thead>\n",
              "    <tr style=\"text-align: right;\">\n",
              "      <th></th>\n",
              "      <th>User</th>\n",
              "      <th>Tweet</th>\n",
              "    </tr>\n",
              "  </thead>\n",
              "  <tbody>\n",
              "    <tr>\n",
              "      <th>0</th>\n",
              "      <td>MosesHaabwa</td>\n",
              "      <td>@MosesHaabwa was verified, @cisuganda was veri...</td>\n",
              "    </tr>\n",
              "    <tr>\n",
              "      <th>1</th>\n",
              "      <td>EremonDaniel</td>\n",
              "      <td>@Rephael_Tuju @WilliamsRuto As you talk of #Ru...</td>\n",
              "    </tr>\n",
              "    <tr>\n",
              "      <th>2</th>\n",
              "      <td>LabanWekz</td>\n",
              "      <td>#Azimio should protect their evidence at the s...</td>\n",
              "    </tr>\n",
              "    <tr>\n",
              "      <th>3</th>\n",
              "      <td>AnariThaddeaus</td>\n",
              "      <td>It doesn't matter who leaves, I won't leave! I...</td>\n",
              "    </tr>\n",
              "    <tr>\n",
              "      <th>4</th>\n",
              "      <td>ehdande</td>\n",
              "      <td>Amidst all the post election discussions, I th...</td>\n",
              "    </tr>\n",
              "  </tbody>\n",
              "</table>\n",
              "</div>\n",
              "      <button class=\"colab-df-convert\" onclick=\"convertToInteractive('df-270fddf8-ef40-4f04-9203-386ffb418157')\"\n",
              "              title=\"Convert this dataframe to an interactive table.\"\n",
              "              style=\"display:none;\">\n",
              "        \n",
              "  <svg xmlns=\"http://www.w3.org/2000/svg\" height=\"24px\"viewBox=\"0 0 24 24\"\n",
              "       width=\"24px\">\n",
              "    <path d=\"M0 0h24v24H0V0z\" fill=\"none\"/>\n",
              "    <path d=\"M18.56 5.44l.94 2.06.94-2.06 2.06-.94-2.06-.94-.94-2.06-.94 2.06-2.06.94zm-11 1L8.5 8.5l.94-2.06 2.06-.94-2.06-.94L8.5 2.5l-.94 2.06-2.06.94zm10 10l.94 2.06.94-2.06 2.06-.94-2.06-.94-.94-2.06-.94 2.06-2.06.94z\"/><path d=\"M17.41 7.96l-1.37-1.37c-.4-.4-.92-.59-1.43-.59-.52 0-1.04.2-1.43.59L10.3 9.45l-7.72 7.72c-.78.78-.78 2.05 0 2.83L4 21.41c.39.39.9.59 1.41.59.51 0 1.02-.2 1.41-.59l7.78-7.78 2.81-2.81c.8-.78.8-2.07 0-2.86zM5.41 20L4 18.59l7.72-7.72 1.47 1.35L5.41 20z\"/>\n",
              "  </svg>\n",
              "      </button>\n",
              "      \n",
              "  <style>\n",
              "    .colab-df-container {\n",
              "      display:flex;\n",
              "      flex-wrap:wrap;\n",
              "      gap: 12px;\n",
              "    }\n",
              "\n",
              "    .colab-df-convert {\n",
              "      background-color: #E8F0FE;\n",
              "      border: none;\n",
              "      border-radius: 50%;\n",
              "      cursor: pointer;\n",
              "      display: none;\n",
              "      fill: #1967D2;\n",
              "      height: 32px;\n",
              "      padding: 0 0 0 0;\n",
              "      width: 32px;\n",
              "    }\n",
              "\n",
              "    .colab-df-convert:hover {\n",
              "      background-color: #E2EBFA;\n",
              "      box-shadow: 0px 1px 2px rgba(60, 64, 67, 0.3), 0px 1px 3px 1px rgba(60, 64, 67, 0.15);\n",
              "      fill: #174EA6;\n",
              "    }\n",
              "\n",
              "    [theme=dark] .colab-df-convert {\n",
              "      background-color: #3B4455;\n",
              "      fill: #D2E3FC;\n",
              "    }\n",
              "\n",
              "    [theme=dark] .colab-df-convert:hover {\n",
              "      background-color: #434B5C;\n",
              "      box-shadow: 0px 1px 3px 1px rgba(0, 0, 0, 0.15);\n",
              "      filter: drop-shadow(0px 1px 2px rgba(0, 0, 0, 0.3));\n",
              "      fill: #FFFFFF;\n",
              "    }\n",
              "  </style>\n",
              "\n",
              "      <script>\n",
              "        const buttonEl =\n",
              "          document.querySelector('#df-270fddf8-ef40-4f04-9203-386ffb418157 button.colab-df-convert');\n",
              "        buttonEl.style.display =\n",
              "          google.colab.kernel.accessAllowed ? 'block' : 'none';\n",
              "\n",
              "        async function convertToInteractive(key) {\n",
              "          const element = document.querySelector('#df-270fddf8-ef40-4f04-9203-386ffb418157');\n",
              "          const dataTable =\n",
              "            await google.colab.kernel.invokeFunction('convertToInteractive',\n",
              "                                                     [key], {});\n",
              "          if (!dataTable) return;\n",
              "\n",
              "          const docLinkHtml = 'Like what you see? Visit the ' +\n",
              "            '<a target=\"_blank\" href=https://colab.research.google.com/notebooks/data_table.ipynb>data table notebook</a>'\n",
              "            + ' to learn more about interactive tables.';\n",
              "          element.innerHTML = '';\n",
              "          dataTable['output_type'] = 'display_data';\n",
              "          await google.colab.output.renderOutput(dataTable, element);\n",
              "          const docLink = document.createElement('div');\n",
              "          docLink.innerHTML = docLinkHtml;\n",
              "          element.appendChild(docLink);\n",
              "        }\n",
              "      </script>\n",
              "    </div>\n",
              "  </div>\n",
              "  "
            ],
            "text/plain": [
              "             User                                              Tweet\n",
              "0     MosesHaabwa  @MosesHaabwa was verified, @cisuganda was veri...\n",
              "1    EremonDaniel  @Rephael_Tuju @WilliamsRuto As you talk of #Ru...\n",
              "2       LabanWekz  #Azimio should protect their evidence at the s...\n",
              "3  AnariThaddeaus  It doesn't matter who leaves, I won't leave! I...\n",
              "4         ehdande  Amidst all the post election discussions, I th..."
            ]
          },
          "execution_count": 8,
          "metadata": {},
          "output_type": "execute_result"
        }
      ],
      "source": [
        "#Dropping unnecessary\n",
        "\n",
        "election_data= election_tweets[['User', 'Tweet']]\n",
        "\n",
        "#Previewing data\n",
        "election_data.head(5)"
      ]
    },
    {
      "cell_type": "code",
      "execution_count": null,
      "metadata": {
        "colab": {
          "base_uri": "https://localhost:8080/"
        },
        "id": "uYMzT1gAmioA",
        "outputId": "abdfba2d-1638-4d14-ebd7-ea6ffc9e5ae3"
      },
      "outputs": [
        {
          "data": {
            "text/plain": [
              "User     0\n",
              "Tweet    0\n",
              "dtype: int64"
            ]
          },
          "execution_count": 9,
          "metadata": {},
          "output_type": "execute_result"
        }
      ],
      "source": [
        "# Looking for missing values\n",
        "\n",
        "election_data.isnull().sum()"
      ]
    },
    {
      "cell_type": "code",
      "execution_count": null,
      "metadata": {
        "colab": {
          "base_uri": "https://localhost:8080/"
        },
        "id": "fCx-Zzq5oXaQ",
        "outputId": "6e52d673-01c1-4bea-9399-df5663a6e443"
      },
      "outputs": [
        {
          "data": {
            "text/plain": [
              "10"
            ]
          },
          "execution_count": 10,
          "metadata": {},
          "output_type": "execute_result"
        }
      ],
      "source": [
        "#Checking for duplicates\n",
        "election_data.duplicated().sum()\n"
      ]
    },
    {
      "cell_type": "code",
      "execution_count": null,
      "metadata": {
        "id": "a9WCpyl25Q0L"
      },
      "outputs": [],
      "source": [
        "#duplicate = election_data.duplicated[election_data.duplicated.duplicated()]\n",
        "\n",
        "#print(\"Duplicate Rows :\")"
      ]
    },
    {
      "cell_type": "code",
      "execution_count": null,
      "metadata": {
        "id": "ss1FVUk131kU"
      },
      "outputs": [],
      "source": [
        "election_data=election_data.drop_duplicates().sum()"
      ]
    },
    {
      "cell_type": "code",
      "execution_count": null,
      "metadata": {
        "colab": {
          "base_uri": "https://localhost:8080/"
        },
        "id": "cR873LqJ4CC0",
        "outputId": "7319b346-5481-4f7e-ab66-07ff1d083baf"
      },
      "outputs": [
        {
          "data": {
            "text/plain": [
              "(5,)"
            ]
          },
          "execution_count": 25,
          "metadata": {},
          "output_type": "execute_result"
        }
      ],
      "source": [
        "election_data.shape"
      ]
    },
    {
      "cell_type": "code",
      "execution_count": null,
      "metadata": {
        "id": "ZzBSvaCT5oZI"
      },
      "outputs": [],
      "source": [
        "\n",
        "raila_handle = ['RailaOdinga', 'Raila Odinga', 'Baba', 'Raila', 'Azimio','Martha Karua','MarthaKaraua']\n",
        "ruto_handle = ['WilliamRuto', 'Ruto', 'William', 'KenyaKwanza','Hustler','RigathiGachagua','Rigathi','Gachagua']\n",
        "wajackoya_handle=['Wajackoyah','RootsParty','Roots Party','Justina Wamae']"
      ]
    },
    {
      "cell_type": "code",
      "execution_count": null,
      "metadata": {
        "colab": {
          "base_uri": "https://localhost:8080/",
          "height": 240
        },
        "id": "xtFlgsY__oOK",
        "outputId": "034c6f0d-f77d-4f23-a91d-bc9adb6d1902"
      },
      "outputs": [
        {
          "ename": "AttributeError",
          "evalue": "ignored",
          "output_type": "error",
          "traceback": [
            "\u001b[0;31m---------------------------------------------------------------------------\u001b[0m",
            "\u001b[0;31mAttributeError\u001b[0m                            Traceback (most recent call last)",
            "\u001b[0;32m<ipython-input-27-df39bbfc62a8>\u001b[0m in \u001b[0;36m<module>\u001b[0;34m\u001b[0m\n\u001b[1;32m      6\u001b[0m     \u001b[0;32mreturn\u001b[0m \u001b[0mflag\u001b[0m\u001b[0;34m\u001b[0m\u001b[0;34m\u001b[0m\u001b[0m\n\u001b[1;32m      7\u001b[0m \u001b[0;34m\u001b[0m\u001b[0m\n\u001b[0;32m----> 8\u001b[0;31m \u001b[0melection_data\u001b[0m\u001b[0;34m[\u001b[0m\u001b[0;34m'Raila'\u001b[0m\u001b[0;34m]\u001b[0m \u001b[0;34m=\u001b[0m \u001b[0melection_data\u001b[0m\u001b[0;34m[\u001b[0m\u001b[0;34m'Tweet'\u001b[0m\u001b[0;34m]\u001b[0m\u001b[0;34m.\u001b[0m\u001b[0mapply\u001b[0m\u001b[0;34m(\u001b[0m\u001b[0;32mlambda\u001b[0m \u001b[0mx\u001b[0m\u001b[0;34m:\u001b[0m \u001b[0midentify_subject\u001b[0m\u001b[0;34m(\u001b[0m\u001b[0mx\u001b[0m\u001b[0;34m,\u001b[0m \u001b[0mraila_handle\u001b[0m\u001b[0;34m)\u001b[0m\u001b[0;34m)\u001b[0m\u001b[0;34m\u001b[0m\u001b[0;34m\u001b[0m\u001b[0m\n\u001b[0m\u001b[1;32m      9\u001b[0m \u001b[0melection_data\u001b[0m\u001b[0;34m[\u001b[0m\u001b[0;34m'Ruto'\u001b[0m\u001b[0;34m]\u001b[0m \u001b[0;34m=\u001b[0m \u001b[0melection_data\u001b[0m\u001b[0;34m[\u001b[0m\u001b[0;34m'Tweet'\u001b[0m\u001b[0;34m]\u001b[0m\u001b[0;34m.\u001b[0m\u001b[0mapply\u001b[0m\u001b[0;34m(\u001b[0m\u001b[0;32mlambda\u001b[0m \u001b[0mx\u001b[0m\u001b[0;34m:\u001b[0m \u001b[0midentify_subject\u001b[0m\u001b[0;34m(\u001b[0m\u001b[0mx\u001b[0m\u001b[0;34m,\u001b[0m \u001b[0mruto_handle\u001b[0m\u001b[0;34m)\u001b[0m\u001b[0;34m)\u001b[0m\u001b[0;34m\u001b[0m\u001b[0;34m\u001b[0m\u001b[0m\n\u001b[1;32m     10\u001b[0m \u001b[0melection_data\u001b[0m\u001b[0;34m[\u001b[0m\u001b[0;34m'Wajackoya'\u001b[0m\u001b[0;34m]\u001b[0m \u001b[0;34m=\u001b[0m \u001b[0melection_data\u001b[0m\u001b[0;34m[\u001b[0m\u001b[0;34m'Tweet'\u001b[0m\u001b[0;34m]\u001b[0m\u001b[0;34m.\u001b[0m\u001b[0mapply\u001b[0m\u001b[0;34m(\u001b[0m\u001b[0;32mlambda\u001b[0m \u001b[0mx\u001b[0m\u001b[0;34m:\u001b[0m \u001b[0midentify_subject\u001b[0m\u001b[0;34m(\u001b[0m\u001b[0mx\u001b[0m\u001b[0;34m,\u001b[0m \u001b[0mwajackoya_handle\u001b[0m\u001b[0;34m)\u001b[0m\u001b[0;34m)\u001b[0m\u001b[0;34m\u001b[0m\u001b[0;34m\u001b[0m\u001b[0m\n",
            "\u001b[0;31mAttributeError\u001b[0m: 'str' object has no attribute 'apply'"
          ]
        }
      ],
      "source": [
        "def identify_subject(tweet, refs):\n",
        "    flag = 0\n",
        "    for ref in refs:\n",
        "        if tweet.find(ref) != -1:\n",
        "            flag = 1\n",
        "    return flag\n",
        "\n",
        "election_data['Raila'] = election_data['Tweet'].apply(lambda x: identify_subject(x, raila_handle))\n",
        "election_data['Ruto'] = election_data['Tweet'].apply(lambda x: identify_subject(x, ruto_handle))\n",
        "election_data['Wajackoya'] = election_data['Tweet'].apply(lambda x: identify_subject(x, wajackoya_handle))\n",
        "election_data.head(10)"
      ]
    },
    {
      "cell_type": "code",
      "execution_count": null,
      "metadata": {
        "colab": {
          "base_uri": "https://localhost:8080/",
          "height": 363
        },
        "id": "EshIW5pW_MAg",
        "outputId": "c4c5d886-148f-47b3-fdd1-f17e4cb4450c"
      },
      "outputs": [
        {
          "data": {
            "text/html": [
              "\n",
              "  <div id=\"df-00287535-b449-49e8-be2d-d95129f58da4\">\n",
              "    <div class=\"colab-df-container\">\n",
              "      <div>\n",
              "<style scoped>\n",
              "    .dataframe tbody tr th:only-of-type {\n",
              "        vertical-align: middle;\n",
              "    }\n",
              "\n",
              "    .dataframe tbody tr th {\n",
              "        vertical-align: top;\n",
              "    }\n",
              "\n",
              "    .dataframe thead th {\n",
              "        text-align: right;\n",
              "    }\n",
              "</style>\n",
              "<table border=\"1\" class=\"dataframe\">\n",
              "  <thead>\n",
              "    <tr style=\"text-align: right;\">\n",
              "      <th></th>\n",
              "      <th>User</th>\n",
              "      <th>Tweet</th>\n",
              "      <th>Raila</th>\n",
              "      <th>Ruto</th>\n",
              "      <th>Wajackoya</th>\n",
              "    </tr>\n",
              "  </thead>\n",
              "  <tbody>\n",
              "    <tr>\n",
              "      <th>4061</th>\n",
              "      <td>MombasaCGW</td>\n",
              "      <td>CONGRATS\\nEthics and Anti-Corruption Commissio...</td>\n",
              "      <td>1</td>\n",
              "      <td>1</td>\n",
              "      <td>0</td>\n",
              "    </tr>\n",
              "    <tr>\n",
              "      <th>4062</th>\n",
              "      <td>MombasaCGW</td>\n",
              "      <td>It's the newspapers , with the same photo that...</td>\n",
              "      <td>1</td>\n",
              "      <td>1</td>\n",
              "      <td>0</td>\n",
              "    </tr>\n",
              "    <tr>\n",
              "      <th>4063</th>\n",
              "      <td>budgetcomps_ke</td>\n",
              "      <td>TP-Link Powerline Wi-Fi Kit : Ksh 8,500\\n\\n300...</td>\n",
              "      <td>1</td>\n",
              "      <td>1</td>\n",
              "      <td>0</td>\n",
              "    </tr>\n",
              "    <tr>\n",
              "      <th>4064</th>\n",
              "      <td>omoro_mr</td>\n",
              "      <td>The OKA dudes reminds me of when armchair quar...</td>\n",
              "      <td>1</td>\n",
              "      <td>0</td>\n",
              "      <td>0</td>\n",
              "    </tr>\n",
              "    <tr>\n",
              "      <th>4065</th>\n",
              "      <td>OscarMvuria</td>\n",
              "      <td>Go listen to  my music and retweet  support KE...</td>\n",
              "      <td>0</td>\n",
              "      <td>0</td>\n",
              "      <td>0</td>\n",
              "    </tr>\n",
              "    <tr>\n",
              "      <th>4066</th>\n",
              "      <td>Jonka254</td>\n",
              "      <td>Who else is running for President in #Kenya ca...</td>\n",
              "      <td>1</td>\n",
              "      <td>1</td>\n",
              "      <td>0</td>\n",
              "    </tr>\n",
              "    <tr>\n",
              "      <th>4067</th>\n",
              "      <td>LemaTrueboy</td>\n",
              "      <td>Welcome all\\nThe day is Friday\\n#Raila \\n#Ruto...</td>\n",
              "      <td>1</td>\n",
              "      <td>1</td>\n",
              "      <td>0</td>\n",
              "    </tr>\n",
              "    <tr>\n",
              "      <th>4068</th>\n",
              "      <td>cNyarige</td>\n",
              "      <td>Car still available \\nSome more pics \\n#carsal...</td>\n",
              "      <td>1</td>\n",
              "      <td>1</td>\n",
              "      <td>0</td>\n",
              "    </tr>\n",
              "    <tr>\n",
              "      <th>4069</th>\n",
              "      <td>vusisa97</td>\n",
              "      <td>The real purpose of the opposition is to minim...</td>\n",
              "      <td>1</td>\n",
              "      <td>0</td>\n",
              "      <td>0</td>\n",
              "    </tr>\n",
              "    <tr>\n",
              "      <th>4070</th>\n",
              "      <td>MombasaCGW</td>\n",
              "      <td>We have no shortage of dunderheads who are lea...</td>\n",
              "      <td>1</td>\n",
              "      <td>1</td>\n",
              "      <td>0</td>\n",
              "    </tr>\n",
              "  </tbody>\n",
              "</table>\n",
              "</div>\n",
              "      <button class=\"colab-df-convert\" onclick=\"convertToInteractive('df-00287535-b449-49e8-be2d-d95129f58da4')\"\n",
              "              title=\"Convert this dataframe to an interactive table.\"\n",
              "              style=\"display:none;\">\n",
              "        \n",
              "  <svg xmlns=\"http://www.w3.org/2000/svg\" height=\"24px\"viewBox=\"0 0 24 24\"\n",
              "       width=\"24px\">\n",
              "    <path d=\"M0 0h24v24H0V0z\" fill=\"none\"/>\n",
              "    <path d=\"M18.56 5.44l.94 2.06.94-2.06 2.06-.94-2.06-.94-.94-2.06-.94 2.06-2.06.94zm-11 1L8.5 8.5l.94-2.06 2.06-.94-2.06-.94L8.5 2.5l-.94 2.06-2.06.94zm10 10l.94 2.06.94-2.06 2.06-.94-2.06-.94-.94-2.06-.94 2.06-2.06.94z\"/><path d=\"M17.41 7.96l-1.37-1.37c-.4-.4-.92-.59-1.43-.59-.52 0-1.04.2-1.43.59L10.3 9.45l-7.72 7.72c-.78.78-.78 2.05 0 2.83L4 21.41c.39.39.9.59 1.41.59.51 0 1.02-.2 1.41-.59l7.78-7.78 2.81-2.81c.8-.78.8-2.07 0-2.86zM5.41 20L4 18.59l7.72-7.72 1.47 1.35L5.41 20z\"/>\n",
              "  </svg>\n",
              "      </button>\n",
              "      \n",
              "  <style>\n",
              "    .colab-df-container {\n",
              "      display:flex;\n",
              "      flex-wrap:wrap;\n",
              "      gap: 12px;\n",
              "    }\n",
              "\n",
              "    .colab-df-convert {\n",
              "      background-color: #E8F0FE;\n",
              "      border: none;\n",
              "      border-radius: 50%;\n",
              "      cursor: pointer;\n",
              "      display: none;\n",
              "      fill: #1967D2;\n",
              "      height: 32px;\n",
              "      padding: 0 0 0 0;\n",
              "      width: 32px;\n",
              "    }\n",
              "\n",
              "    .colab-df-convert:hover {\n",
              "      background-color: #E2EBFA;\n",
              "      box-shadow: 0px 1px 2px rgba(60, 64, 67, 0.3), 0px 1px 3px 1px rgba(60, 64, 67, 0.15);\n",
              "      fill: #174EA6;\n",
              "    }\n",
              "\n",
              "    [theme=dark] .colab-df-convert {\n",
              "      background-color: #3B4455;\n",
              "      fill: #D2E3FC;\n",
              "    }\n",
              "\n",
              "    [theme=dark] .colab-df-convert:hover {\n",
              "      background-color: #434B5C;\n",
              "      box-shadow: 0px 1px 3px 1px rgba(0, 0, 0, 0.15);\n",
              "      filter: drop-shadow(0px 1px 2px rgba(0, 0, 0, 0.3));\n",
              "      fill: #FFFFFF;\n",
              "    }\n",
              "  </style>\n",
              "\n",
              "      <script>\n",
              "        const buttonEl =\n",
              "          document.querySelector('#df-00287535-b449-49e8-be2d-d95129f58da4 button.colab-df-convert');\n",
              "        buttonEl.style.display =\n",
              "          google.colab.kernel.accessAllowed ? 'block' : 'none';\n",
              "\n",
              "        async function convertToInteractive(key) {\n",
              "          const element = document.querySelector('#df-00287535-b449-49e8-be2d-d95129f58da4');\n",
              "          const dataTable =\n",
              "            await google.colab.kernel.invokeFunction('convertToInteractive',\n",
              "                                                     [key], {});\n",
              "          if (!dataTable) return;\n",
              "\n",
              "          const docLinkHtml = 'Like what you see? Visit the ' +\n",
              "            '<a target=\"_blank\" href=https://colab.research.google.com/notebooks/data_table.ipynb>data table notebook</a>'\n",
              "            + ' to learn more about interactive tables.';\n",
              "          element.innerHTML = '';\n",
              "          dataTable['output_type'] = 'display_data';\n",
              "          await google.colab.output.renderOutput(dataTable, element);\n",
              "          const docLink = document.createElement('div');\n",
              "          docLink.innerHTML = docLinkHtml;\n",
              "          element.appendChild(docLink);\n",
              "        }\n",
              "      </script>\n",
              "    </div>\n",
              "  </div>\n",
              "  "
            ],
            "text/plain": [
              "                User                                              Tweet  \\\n",
              "4061      MombasaCGW  CONGRATS\\nEthics and Anti-Corruption Commissio...   \n",
              "4062      MombasaCGW  It's the newspapers , with the same photo that...   \n",
              "4063  budgetcomps_ke  TP-Link Powerline Wi-Fi Kit : Ksh 8,500\\n\\n300...   \n",
              "4064        omoro_mr  The OKA dudes reminds me of when armchair quar...   \n",
              "4065     OscarMvuria  Go listen to  my music and retweet  support KE...   \n",
              "4066        Jonka254  Who else is running for President in #Kenya ca...   \n",
              "4067     LemaTrueboy  Welcome all\\nThe day is Friday\\n#Raila \\n#Ruto...   \n",
              "4068        cNyarige  Car still available \\nSome more pics \\n#carsal...   \n",
              "4069        vusisa97  The real purpose of the opposition is to minim...   \n",
              "4070      MombasaCGW  We have no shortage of dunderheads who are lea...   \n",
              "\n",
              "      Raila  Ruto  Wajackoya  \n",
              "4061      1     1          0  \n",
              "4062      1     1          0  \n",
              "4063      1     1          0  \n",
              "4064      1     0          0  \n",
              "4065      0     0          0  \n",
              "4066      1     1          0  \n",
              "4067      1     1          0  \n",
              "4068      1     1          0  \n",
              "4069      1     0          0  \n",
              "4070      1     1          0  "
            ]
          },
          "execution_count": 22,
          "metadata": {},
          "output_type": "execute_result"
        }
      ],
      "source": [
        "election_data.tail(10)"
      ]
    },
    {
      "cell_type": "code",
      "execution_count": null,
      "metadata": {
        "id": "frMG7WgQCZty"
      },
      "outputs": [],
      "source": [
        "from textblob import TextBlob\n",
        "\n",
        "raila_txt=TextBlob(raila[\"text\"][100])\n",
        "print(raila[\"text\"][100])\n",
        "print(\"raila:\", raila_txt.sentiment)\n",
        "\n",
        "ruto_txt=TextBlob(ruto[\"text\"][500])\n",
        "print(ruto[\"text\"][500])\n",
        "print(\"ruto:\", ruto_txt.sentiment)"
      ]
    },
    {
      "cell_type": "code",
      "execution_count": null,
      "metadata": {
        "id": "aIEVKXyRCcgC"
      },
      "outputs": [],
      "source": []
    },
    {
      "cell_type": "markdown",
      "metadata": {
        "id": "lDlJnIQlNjQC"
      },
      "source": [
        "## EDA"
      ]
    },
    {
      "cell_type": "code",
      "execution_count": null,
      "metadata": {
        "colab": {
          "base_uri": "https://localhost:8080/",
          "height": 384
        },
        "id": "p5zJE43nd81V",
        "outputId": "6ad2a45a-4330-4ed1-ed73-e935f293e06b"
      },
      "outputs": [
        {
          "data": {
            "image/png": "[encoded data removed]",
            "text/plain": [
              "<Figure size 432x288 with 1 Axes>"
            ]
          },
          "metadata": {},
          "output_type": "display_data"
        }
      ],
      "source": [
        "# Distribution of sources of tweets in descending order\n",
        "sns.countplot(data = election_tweets, x = 'Source_of_Tweet', color = 'blue', order = election_tweets['Source_of_Tweet'].value_counts().iloc[:20].index).tick_params(axis='x', rotation=90)"
      ]
    },
    {
      "cell_type": "markdown",
      "metadata": {
        "id": "KMHurRc8c8ZA"
      },
      "source": [
        "**OBSERVATION:**\n",
        "\n",
        "A significantly very high number the Tweets were sourced from Twitter for Android, followed by Twitter Web App and the least number of Tweets were sourced from Periscope."
      ]
    },
    {
      "cell_type": "code",
      "execution_count": null,
      "metadata": {
        "colab": {
          "base_uri": "https://localhost:8080/",
          "height": 295
        },
        "id": "V9yJJ6Ui6qu0",
        "outputId": "436a43f2-1327-4628-906b-c647eaeecf84"
      },
      "outputs": [
        {
          "data": {
            "image/png": "[encoded data removed]",
            "text/plain": [
              "<Figure size 432x288 with 1 Axes>"
            ]
          },
          "metadata": {},
          "output_type": "display_data"
        }
      ],
      "source": [
        "# Frequency Distribution of languages used on tweets in descending order\n",
        "sns.countplot(data = election_tweets, y = 'Language', color = 'blue', order = election_tweets['Language'].value_counts().iloc[:20].index).tick_params(axis='x', rotation=90);"
      ]
    },
    {
      "cell_type": "markdown",
      "metadata": {
        "id": "UjzLF14ZQ66u"
      },
      "source": [
        "English (en) is the most used language in the Tweets followed by in, then tl.\n",
        "\n",
        "The least number of Tweets are in pt Language.\n"
      ]
    },
    {
      "cell_type": "code",
      "execution_count": null,
      "metadata": {
        "colab": {
          "base_uri": "https://localhost:8080/",
          "height": 308
        },
        "id": "0jLoJKiB6CUj",
        "outputId": "a0d88ee4-be82-491c-ddf9-66674923a147"
      },
      "outputs": [
        {
          "data": {
            "image/png": "[encoded data removed]",
            "text/plain": [
              "<Figure size 432x288 with 1 Axes>"
            ]
          },
          "metadata": {},
          "output_type": "display_data"
        }
      ],
      "source": [
        "# Top 20 number of people that tweet owners follow\n",
        "sns.countplot(data = election_tweets, x = 'Follows_Count', order = election_tweets['Follows_Count'].value_counts().iloc[:20].index).tick_params(axis='x', rotation=90)"
      ]
    },
    {
      "cell_type": "markdown",
      "metadata": {
        "id": "DC_z-1KkMvdo"
      },
      "source": [
        "**OBSERVATIONS:**\n",
        "\n",
        "Most of the accounts that tweeted have 4705 follows. Followed by 3 then 1513.\n",
        "\n",
        "Tweeter users with different number of follows tweeted about Kenyan presidential elections.\n",
        "\n",
        "Even people with no follows are among the top Twitter users discussing Kenyan Presidential Elections."
      ]
    },
    {
      "cell_type": "code",
      "execution_count": null,
      "metadata": {
        "colab": {
          "base_uri": "https://localhost:8080/",
          "height": 302
        },
        "id": "tc0-OZYBHtHk",
        "outputId": "00bbe27b-44e3-4d76-d990-54ddc2f9472f"
      },
      "outputs": [
        {
          "data": {
            "image/png": "[encoded data removed]",
            "text/plain": [
              "<Figure size 432x288 with 1 Axes>"
            ]
          },
          "metadata": {},
          "output_type": "display_data"
        }
      ],
      "source": [
        "# Top 20 number of people that tweet owners friends\n",
        "sns.countplot(data = election_tweets, x = 'Friends_Count', order = election_tweets['Friends_Count'].value_counts().iloc[:20].index).tick_params(axis='x', rotation=90)"
      ]
    },
    {
      "cell_type": "markdown",
      "metadata": {
        "id": "kcvq6_dUN4zn"
      },
      "source": [
        "**OBSERVATIONS:**\n",
        "\n",
        "Most of the accounts that tweeted have 4705 follows. Followed by 3 then 1513.\n",
        "\n",
        "Tweeter users with different number of friends tweeted about Kenyan presidential elections.\n",
        "\n",
        "Even people with 1 friend are among the top Twitter users discussing Kenyan Presidential Elections."
      ]
    },
    {
      "cell_type": "code",
      "execution_count": null,
      "metadata": {
        "id": "kZXSxvwZKkJ-"
      },
      "outputs": [],
      "source": [
        "# sns.barplot(data = election_tweets, x = election_tweets.index, y = 'Date_Created')"
      ]
    },
    {
      "cell_type": "code",
      "execution_count": null,
      "metadata": {
        "colab": {
          "base_uri": "https://localhost:8080/",
          "height": 264
        },
        "id": "-9XOeRzpVA8u",
        "outputId": "d008bdae-71b8-4819-a347-f57772ddcb61"
      },
      "outputs": [
        {
          "data": {
            "image/png": "[encoded data removed]",
            "text/plain": [
              "<Figure size 432x288 with 1 Axes>"
            ]
          },
          "metadata": {},
          "output_type": "display_data"
        }
      ],
      "source": [
        "# comparison between verified and unverified Twitter users commenting on the users\n",
        "\n",
        "# defining data\n",
        "data = election_tweets['verified'].value_counts()\n",
        "\n",
        "# plotting pie chart\n",
        "data.plot.pie(autopct='%.2f%%', colors = ['#ff9999','#66b3ff'], explode = (0.05, 0.05))\n",
        "\n",
        "# define tittle\n",
        "plt.title('VERIFICATION')\n",
        "\n",
        "# add legend\n",
        "plt.legend(bbox_to_anchor=(1, 1.02), loc='upper left')\n",
        "\n",
        "# displaying chart\n",
        "plt.show()"
      ]
    },
    {
      "cell_type": "markdown",
      "metadata": {
        "id": "CYyFB2BrbIFW"
      },
      "source": [
        "**OBSERVATION:**\n",
        "\n",
        "A very high percentage (97.35%) of Twitter users who tweeted about Kenyan Presidential elections are not verified.\n",
        "\n",
        "Only 2.65% of Twitter users who tweeted about Kenyan Presidential elections are verified."
      ]
    },
    {
      "cell_type": "code",
      "execution_count": null,
      "metadata": {
        "id": "kkZ9e0Y6a5ju"
      },
      "outputs": [],
      "source": []
    }
  ],
  "metadata": {
    "colab": {
      "provenance": []
    },
    "kernelspec": {
      "display_name": "Python 3",
      "name": "python3"
    },
    "language_info": {
      "name": "python"
    }
  },
  "nbformat": 4,
  "nbformat_minor": 0
}